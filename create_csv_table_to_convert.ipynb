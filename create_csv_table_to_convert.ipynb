{
 "cells": [
  {
   "cell_type": "code",
   "execution_count": 8,
   "metadata": {
    "collapsed": true
   },
   "outputs": [],
   "source": [
    "import csv\n",
    "#import utils.shortcuts as sc\n",
    "\n",
    "\n",
    "field_names = [\"experiment_name\", \"LM_path\", \"EM_path\"]\n",
    "\n",
    "rows= [\n",
    "    {'experiment_name': '20220426_RM0008_130hpf_fP1_f3',\n",
    "     'LM_path': 'W:/scratch/gfriedri/montruth/2P_RawData/2022-04-26/f3',\n",
    "     'EM_path': \"\"},\n",
    "    {'experiment_name': '20220426_RM0008_130hpf_fP1_f3',\n",
    "     'LM_path': 'W:/scratch/gfriedri/montruth/2P_RawData/2022-01-17/f2',\n",
    "     'EM_path': \"\"}\n",
    "]\n",
    "\n",
    "#current_parent_folder = sc.get_parent_folder()\n",
    "with open('C:/Users/montruth/fishPy/tests/experiment_list.csv', 'w', encoding='UTF8', newline='') as f:\n",
    "    writer = csv.DictWriter(f, fieldnames=field_names)\n",
    "    writer.writeheader()\n",
    "    writer.writerows(rows)\n"
   ]
  },
  {
   "cell_type": "code",
   "execution_count": null,
   "outputs": [],
   "source": [],
   "metadata": {
    "collapsed": false
   }
  }
 ],
 "metadata": {
  "kernelspec": {
   "display_name": "Python 3",
   "language": "python",
   "name": "python3"
  },
  "language_info": {
   "codemirror_mode": {
    "name": "ipython",
    "version": 2
   },
   "file_extension": ".py",
   "mimetype": "text/x-python",
   "name": "python",
   "nbconvert_exporter": "python",
   "pygments_lexer": "ipython2",
   "version": "2.7.6"
  }
 },
 "nbformat": 4,
 "nbformat_minor": 0
}
